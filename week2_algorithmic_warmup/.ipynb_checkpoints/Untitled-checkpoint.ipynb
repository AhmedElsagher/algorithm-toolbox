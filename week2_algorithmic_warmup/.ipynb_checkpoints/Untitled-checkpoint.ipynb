{
 "cells": [
  {
   "cell_type": "markdown",
   "metadata": {},
   "source": [
    "# fibonacci"
   ]
  },
  {
   "cell_type": "code",
   "execution_count": null,
   "metadata": {},
   "outputs": [],
   "source": [
    "# Uses python3\n",
    "def calc_fib(n):\n",
    "    if (n <= 1):\n",
    "        return n\n",
    "\n",
    "    return calc_fib(n - 1) + calc_fib(n - 2)\n",
    "def calc_fib_fast(n):\n",
    "    if (n <= 1):\n",
    "        return n\n",
    "    f0=0\n",
    "    f1=1\n",
    "    for i in range(n-1):\n",
    "        f0,f1=f1,f1+f0,\n",
    "    return f1\n",
    "\n",
    "n = int(input())\n",
    "print(calc_fib_fast(n))\n"
   ]
  },
  {
   "cell_type": "markdown",
   "metadata": {},
   "source": [
    "## fibonacci_last_digit"
   ]
  },
  {
   "cell_type": "code",
   "execution_count": null,
   "metadata": {},
   "outputs": [],
   "source": [
    "# Uses python3\n",
    "import sys\n",
    "\n",
    "def get_fibonacci_last_digit_naive(n):\n",
    "    if n <= 1:\n",
    "        return n\n",
    "\n",
    "    previous = 0\n",
    "    current  = 1\n",
    "\n",
    "    for _ in range(n - 1):\n",
    "        previous, current = current, previous + current\n",
    "\n",
    "    return current % 10\n",
    "def get_fibonacci_last_digit(n):\n",
    "    if n <= 1:\n",
    "        return n\n",
    "\n",
    "    previous = 0\n",
    "    current  = 1\n",
    "\n",
    "    for _ in range(n - 1):\n",
    "        previous, current = current%10, (previous + current)%10\n",
    "\n",
    "    return current % 10\n",
    "if __name__ == '__main__':\n",
    "#     input = sys.stdin.read()\n",
    "    n = int(input())\n",
    "    print(get_fibonacci_last_digit(n))\n"
   ]
  },
  {
   "cell_type": "markdown",
   "metadata": {},
   "source": [
    "## gcd"
   ]
  },
  {
   "cell_type": "code",
   "execution_count": 6,
   "metadata": {},
   "outputs": [
    {
     "name": "stdout",
     "output_type": "stream",
     "text": [
      "28851538 1183019\n",
      "17657\n"
     ]
    }
   ],
   "source": [
    "# Uses python3\n",
    "import sys\n",
    "\n",
    "def gcd_naive(a, b):\n",
    "    current_gcd = 1\n",
    "    for d in range(2, min(a, b) + 1):\n",
    "        if a % d == 0 and b % d == 0:\n",
    "            if d > current_gcd:\n",
    "                current_gcd = d\n",
    "\n",
    "    return current_gcd\n",
    "\n",
    "def gcd(a, b):\n",
    "    \n",
    "    if b==0:\n",
    "        return a\n",
    "\n",
    "    return gcd(b,a%b)\n",
    "\n",
    "if __name__ == \"__main__\":\n",
    "#     input = sys.stdin.read()\n",
    "    a, b = map(int, input().split())\n",
    "    print(gcd(a, b))\n"
   ]
  },
  {
   "cell_type": "markdown",
   "metadata": {},
   "source": [
    "## LCM"
   ]
  },
  {
   "cell_type": "code",
   "execution_count": null,
   "metadata": {},
   "outputs": [],
   "source": [
    "# Uses python3\n",
    "import sys\n",
    "\n",
    "def lcm_naive(a, b):\n",
    "    for l in range(1, a*b + 1):\n",
    "        if l % a == 0 and l % b == 0:\n",
    "            return l\n",
    "\n",
    "    return a*b\n",
    "def lcm(a, b):\n",
    "    return (a*b)/gcd(a,b)\n",
    "\n",
    "    return a*b\n",
    "if __name__ == '__main__':\n",
    "    input = sys.stdin.read()\n",
    "    a, b = map(int, input.split())\n",
    "    print(lcm_naive(a, b))\n",
    "\n"
   ]
  }
 ],
 "metadata": {
  "kernelspec": {
   "display_name": "Python 3",
   "language": "python",
   "name": "python3"
  },
  "language_info": {
   "codemirror_mode": {
    "name": "ipython",
    "version": 3
   },
   "file_extension": ".py",
   "mimetype": "text/x-python",
   "name": "python",
   "nbconvert_exporter": "python",
   "pygments_lexer": "ipython3",
   "version": "3.5.2"
  }
 },
 "nbformat": 4,
 "nbformat_minor": 2
}
