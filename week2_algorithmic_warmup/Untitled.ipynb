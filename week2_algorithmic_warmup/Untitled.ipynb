{
 "cells": [
  {
   "cell_type": "markdown",
   "metadata": {},
   "source": [
    "# fibonacci"
   ]
  },
  {
   "cell_type": "code",
   "execution_count": null,
   "metadata": {},
   "outputs": [],
   "source": [
    "# Uses python3\n",
    "def calc_fib(n):\n",
    "    if (n <= 1):\n",
    "        return n\n",
    "\n",
    "    return calc_fib(n - 1) + calc_fib(n - 2)\n",
    "def calc_fib_fast(n):\n",
    "    if (n <= 1):\n",
    "        return n\n",
    "    f0=0\n",
    "    f1=1\n",
    "    for i in range(n-1):\n",
    "        f0,f1=f1,f1+f0,\n",
    "    return f1\n",
    "\n",
    "n = int(input())\n",
    "print(calc_fib_fast(n))\n"
   ]
  },
  {
   "cell_type": "markdown",
   "metadata": {},
   "source": [
    "## fibonacci_last_digit"
   ]
  },
  {
   "cell_type": "code",
   "execution_count": null,
   "metadata": {},
   "outputs": [],
   "source": [
    "# Uses python3\n",
    "import sys\n",
    "\n",
    "def get_fibonacci_last_digit_naive(n):\n",
    "    if n <= 1:\n",
    "        return n\n",
    "\n",
    "    previous = 0\n",
    "    current  = 1\n",
    "\n",
    "    for _ in range(n - 1):\n",
    "        previous, current = current, previous + current\n",
    "\n",
    "    return current % 10\n",
    "def get_fibonacci_last_digit(n):\n",
    "    if n <= 1:\n",
    "        return n\n",
    "\n",
    "    previous = 0\n",
    "    current  = 1\n",
    "\n",
    "    for _ in range(n - 1):\n",
    "        previous, current = current%10, (previous + current)%10\n",
    "\n",
    "    return current % 10\n",
    "if __name__ == '__main__':\n",
    "#     input = sys.stdin.read()\n",
    "    n = int(input())\n",
    "    print(get_fibonacci_last_digit(n))\n"
   ]
  },
  {
   "cell_type": "markdown",
   "metadata": {},
   "source": [
    "## gcd"
   ]
  },
  {
   "cell_type": "code",
   "execution_count": 11,
   "metadata": {},
   "outputs": [
    {
     "name": "stdout",
     "output_type": "stream",
     "text": [
      "1 1\n",
      "1\n"
     ]
    }
   ],
   "source": [
    "# Uses python3\n",
    "import sys\n",
    "\n",
    "def gcd_naive(a, b):\n",
    "    current_gcd = 1\n",
    "    for d in range(2, min(a, b) + 1):\n",
    "        if a % d == 0 and b % d == 0:\n",
    "            if d > current_gcd:\n",
    "                current_gcd = d\n",
    "\n",
    "    return current_gcd\n",
    "\n",
    "def gcd(a, b):\n",
    "    \n",
    "    if b==0:\n",
    "        return a\n",
    "\n",
    "    return gcd(b,a%b)\n",
    "\n",
    "if __name__ == \"__main__\":\n",
    "#     input = sys.stdin.read()\n",
    "    a, b = map(int, input().split())\n",
    "    print(gcd(a, b))\n"
   ]
  },
  {
   "cell_type": "markdown",
   "metadata": {},
   "source": [
    "## LCM"
   ]
  },
  {
   "cell_type": "code",
   "execution_count": 14,
   "metadata": {},
   "outputs": [
    {
     "name": "stdout",
     "output_type": "stream",
     "text": [
      "226553150 1023473145\n",
      "46374212988031350\n"
     ]
    }
   ],
   "source": [
    "# Uses python3\n",
    "import sys\n",
    "from decimal import Decimal\n",
    "def lcm_naive(a, b):\n",
    "    for l in range(1, a*b + 1):\n",
    "        if l % a == 0 and l % b == 0:\n",
    "            return l\n",
    "\n",
    "    return a*b\n",
    "def lcm(a, b):\n",
    "    a=Decimal(a)\n",
    "    b=Decimal(b)\n",
    "    lcm_value=(a*b)/gcd(a,b)\n",
    "    return Decimal(lcm_value)\n",
    "\n",
    "#     return a*b\n",
    "if __name__ == '__main__':\n",
    "#     input = sys.stdin.read()\n",
    "    a, b = map(int, input().split())\n",
    "    print(lcm(a, b))\n",
    "\n"
   ]
  },
  {
   "cell_type": "markdown",
   "metadata": {},
   "source": [
    "## fibonacci_huge"
   ]
  },
  {
   "cell_type": "code",
   "execution_count": null,
   "metadata": {},
   "outputs": [],
   "source": [
    "# Uses python3\n",
    "import sys\n",
    "\n",
    "def get_fibonacci_huge_naive(n, m):\n",
    "    if n <= 1:\n",
    "        return n\n",
    "\n",
    "    previous = 0\n",
    "    current  = 1\n",
    "\n",
    "    for _ in range(n - 1):\n",
    "        previous, current = current, previous + current\n",
    "\n",
    "    return current % m\n",
    "def get_periodic_number(n):\n",
    "    if (n <= 1):\n",
    "        return n\n",
    "    f0=0\n",
    "    f1=1\n",
    "    for i in range(10000):\n",
    "        f0,f1=f1%n,(f1+f0)%n\n",
    "        if f0==0 and f1==1:\n",
    "            return i+1\n",
    "def calc_fib_fast(n):\n",
    "    if (n <= 1):\n",
    "        return n\n",
    "    f0=0\n",
    "    f1=1\n",
    "    for i in range(n-1):\n",
    "        f0,f1=f1,f1+f0,\n",
    "    return f1\n",
    "def get_fibonacci_huge(n, m):\n",
    "    if n <= 1:\n",
    "        return n\n",
    "\n",
    "#     previous = 0\n",
    "#     current  = 1\n",
    "\n",
    "#     for _ in range(n - 1):\n",
    "#         previous, current = current, previous + current\n",
    "    periodic_number=get_periodic_number(m)\n",
    "#     print(periodic_number)\n",
    "    reminder=n%periodic_number\n",
    "    rem_fab=calc_fib_fast(reminder)%m\n",
    "    return rem_fab\n",
    "if __name__ == '__main__':\n",
    "#     input = sys.stdin.read();\n",
    "    n, m = map(int, input().split())\n",
    "    print(get_fibonacci_huge(n, m))\n"
   ]
  },
  {
   "cell_type": "markdown",
   "metadata": {},
   "source": [
    "## fibonacci_sum_last_digit"
   ]
  },
  {
   "cell_type": "code",
   "execution_count": 10,
   "metadata": {},
   "outputs": [
    {
     "name": "stdout",
     "output_type": "stream",
     "text": [
      "100\n",
      "5\n"
     ]
    }
   ],
   "source": [
    "# Uses python3\n",
    "import sys\n",
    "def get_periodic_array(n):\n",
    "    list_reminders=list()\n",
    "    list_reminders.append(0)\n",
    "    list_reminders.append(1)\n",
    "    f1,f0=1,0\n",
    "    for i in range(10000):\n",
    "        f0,f1=f1%n,(f1+f0)%n\n",
    "        if f0==0 and f1==1:\n",
    "            return list_reminders[:-1]\n",
    "        list_reminders.append(f1)\n",
    "\n",
    "def calc_fib_fast(n):\n",
    "    if (n <= 1):\n",
    "        return n\n",
    "    f0=0\n",
    "    f1=1\n",
    "    for i in range(n-1):\n",
    "        f0,f1=f1,f1+f0,\n",
    "    return f1\n",
    "\n",
    "def fibonacci_sum(n):\n",
    "    if n <= 1:\n",
    "        return n\n",
    "    periodic_array=get_periodic_array(10)\n",
    "    sum_periodic_array=sum(periodic_array)\n",
    "    reminder_n_m=n%len(periodic_array)\n",
    "    fab_sum=sum_periodic_array*int(n/len(periodic_array))\n",
    "    if reminder_n_m>0:\n",
    "        sum_reminder=sum(periodic_array[:reminder_n_m+1])\n",
    "        fab_sum+=sum_reminder\n",
    "        \n",
    "#     q=int(n/periodic_number)\n",
    "#     previous = 0\n",
    "#     current  = 1\n",
    "#     sum      = 1\n",
    "\n",
    "#     for _ in range(n - 1):\n",
    "#         previous, current = current, previous + current\n",
    "#         sum += current\n",
    "\n",
    "    return fab_sum%10\n",
    "def fibonacci_sum_naive(n):\n",
    "    if n <= 1:\n",
    "        return n\n",
    "\n",
    "    previous = 0\n",
    "    current  = 1\n",
    "    sum      = 1\n",
    "\n",
    "    for _ in range(n - 1):\n",
    "        previous, current = current, previous + current\n",
    "        sum += current\n",
    "\n",
    "    return sum % 10\n",
    "\n",
    "\n",
    "if __name__ == '__main__':\n",
    "#     input = sys.stdin.read()\n",
    "    n = int(input())\n",
    "    print(fibonacci_sum(n))\n"
   ]
  },
  {
   "cell_type": "markdown",
   "metadata": {},
   "source": [
    "## fibonacci_partial_sum\n"
   ]
  },
  {
   "cell_type": "code",
   "execution_count": 17,
   "metadata": {},
   "outputs": [
    {
     "name": "stdout",
     "output_type": "stream",
     "text": [
      "1 1\n",
      "1\n"
     ]
    }
   ],
   "source": [
    "# Uses python3\n",
    "import sys\n",
    "\n",
    "def get_periodic_array(n):\n",
    "    list_reminders=list()\n",
    "    list_reminders.append(0)\n",
    "    list_reminders.append(1)\n",
    "    f1,f0=1,0\n",
    "    for i in range(10000):\n",
    "        f0,f1=f1%n,(f1+f0)%n\n",
    "        if f0==0 and f1==1:\n",
    "            return list_reminders[:-1]\n",
    "        list_reminders.append(f1)\n",
    "        \n",
    "\n",
    "def fibonacci_partial_sum(from_, to):\n",
    "    sum_ = 0\n",
    "    periodic_array=get_periodic_array(10)\n",
    "    from_=from_%len(periodic_array)\n",
    "    to=to%len(periodic_array)\n",
    "    if to>from_:\n",
    "        sum_=sum(periodic_array[from_:to+1])\n",
    "    else:\n",
    "        sum_=sum(periodic_array[0:from_+1])+sum(periodic_array[to:])\n",
    "\n",
    "#     for i in range(to + 1):\n",
    "#         if i >= from_:\n",
    "#             sum += current\n",
    "\n",
    "#         current, next = next, current + next\n",
    "\n",
    "    return sum_ % 10\n",
    "\n",
    "def fibonacci_partial_sum_naive(from_, to):\n",
    "    sum = 0\n",
    "\n",
    "    current = 0\n",
    "    next  = 1\n",
    "\n",
    "    for i in range(to + 1):\n",
    "        if i >= from_:\n",
    "            sum += current\n",
    "\n",
    "        current, next = next, current + next\n",
    "\n",
    "    return sum % 10\n",
    "\n",
    "\n",
    "if __name__ == '__main__':\n",
    "#     input = sys.stdin.read();\n",
    "    from_, to = map(int, input().split())\n",
    "    print(fibonacci_partial_sum(from_, to))"
   ]
  },
  {
   "cell_type": "code",
   "execution_count": null,
   "metadata": {},
   "outputs": [],
   "source": []
  },
  {
   "cell_type": "code",
   "execution_count": null,
   "metadata": {},
   "outputs": [],
   "source": []
  }
 ],
 "metadata": {
  "kernelspec": {
   "display_name": "Python 3",
   "language": "python",
   "name": "python3"
  },
  "language_info": {
   "codemirror_mode": {
    "name": "ipython",
    "version": 3
   },
   "file_extension": ".py",
   "mimetype": "text/x-python",
   "name": "python",
   "nbconvert_exporter": "python",
   "pygments_lexer": "ipython3",
   "version": "3.5.2"
  }
 },
 "nbformat": 4,
 "nbformat_minor": 2
}
