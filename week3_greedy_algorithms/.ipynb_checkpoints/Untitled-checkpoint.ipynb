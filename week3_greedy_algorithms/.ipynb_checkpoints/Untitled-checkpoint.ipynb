{
 "cells": [
  {
   "cell_type": "code",
   "execution_count": 2,
   "metadata": {},
   "outputs": [
    {
     "name": "stdout",
     "output_type": "stream",
     "text": [
      "28\n",
      "6\n"
     ]
    }
   ],
   "source": [
    "# Uses python3\n",
    "import sys\n",
    "\n",
    "def get_change(m):\n",
    "    #write your code here\n",
    "    num_coin=0\n",
    "    num_coin+=int(m/10)\n",
    "    m=m%10\n",
    "    num_coin+=int(m/5)\n",
    "    m=m%5\n",
    "    num_coin+=m\n",
    "    return num_coin\n",
    "\n",
    "if __name__ == '__main__':\n",
    "    m = int(input())\n",
    "    print(get_change(m))\n"
   ]
  },
  {
   "cell_type": "code",
   "execution_count": 24,
   "metadata": {},
   "outputs": [
    {
     "name": "stdout",
     "output_type": "stream",
     "text": [
      "1 10\n",
      "500 30\n",
      "166.6667\n"
     ]
    }
   ],
   "source": [
    "# Uses python3\n",
    "import sys\n",
    "\n",
    "def get_optimal_value(capacity, weights, values):\n",
    "    value = 0.\n",
    "    value_weight=[]\n",
    "    for i in range(len(weights)):\n",
    "        value_weight.append(values[i]/weights[i]) \n",
    "    ll=sorted(zip(value_weight,weights),reverse=True)\n",
    "    value_weight,weights=zip(*ll)\n",
    "    \n",
    "    for i in range(len(weights)):\n",
    "        if capacity>=weights[i]:\n",
    "            value+=value_weight[i]*weights[i]\n",
    "            capacity-=weights[i]\n",
    "\n",
    "        else:\n",
    "            value+=value_weight[i]*capacity\n",
    "    return value\n",
    "\n",
    "\n",
    "if __name__ == \"__main__\":\n",
    "#     data = list(map(int, ))\n",
    "    n, capacity = input().split()\n",
    "    n, capacity =int( n),int( capacity )\n",
    "    values=[]\n",
    "    weights=[]\n",
    "    for i in range(n):\n",
    "        value_i, weight_i = input().split()\n",
    "        value_i, weight_i = int(value_i),int(weight_i)\n",
    "        values.append(value_i)\n",
    "        weights.append(weight_i)\n",
    "#     n, capacity =int( n),int( capacity )\n",
    "#     values = data[2:(2 * n + 2):2]\n",
    "#     weights = data[3:(2 * n + 2):2]\n",
    "    opt_value = get_optimal_value(capacity, weights, values)\n",
    "    print(\"{:.4f}\".format(opt_value))\n"
   ]
  },
  {
   "cell_type": "code",
   "execution_count": 28,
   "metadata": {},
   "outputs": [
    {
     "name": "stdout",
     "output_type": "stream",
     "text": [
      "950\n",
      "400\n",
      "4\n",
      "200 100 2 5\n",
      "-1\n"
     ]
    }
   ],
   "source": [
    "# python3\n",
    "import sys\n",
    "\n",
    "\n",
    "def compute_min_refills(distance, tank, stops):\n",
    "    # write your code here\n",
    "    tmp_dist=0\n",
    "    num_refils=0\n",
    "    for i in range(len(stops)):\n",
    "        if tmp_dist<tank:\n",
    "            tmp_dist+=stops[i]\n",
    "        else:\n",
    "            num_refils+=1\n",
    "            tmp_dist=0\n",
    "\n",
    "\n",
    "            \n",
    "    return -1\n",
    "\n",
    "if __name__ == '__main__':\n",
    "#     d, m = map(int, input().split())\n",
    "    d=int(input())\n",
    "    m=int(input())\n",
    "    n=int(input())\n",
    "    stops=list(map(int, input().split()))\n",
    "    \n",
    "    print(compute_min_refills(d, m, stops))\n"
   ]
  },
  {
   "cell_type": "code",
   "execution_count": 30,
   "metadata": {},
   "outputs": [
    {
     "data": {
      "text/plain": [
       "[200, 100, 2, 5]"
      ]
     },
     "execution_count": 30,
     "metadata": {},
     "output_type": "execute_result"
    }
   ],
   "source": [
    "list(stops)"
   ]
  },
  {
   "cell_type": "code",
   "execution_count": null,
   "metadata": {},
   "outputs": [],
   "source": []
  }
 ],
 "metadata": {
  "kernelspec": {
   "display_name": "Python 3",
   "language": "python",
   "name": "python3"
  },
  "language_info": {
   "codemirror_mode": {
    "name": "ipython",
    "version": 3
   },
   "file_extension": ".py",
   "mimetype": "text/x-python",
   "name": "python",
   "nbconvert_exporter": "python",
   "pygments_lexer": "ipython3",
   "version": "3.5.2"
  }
 },
 "nbformat": 4,
 "nbformat_minor": 2
}
