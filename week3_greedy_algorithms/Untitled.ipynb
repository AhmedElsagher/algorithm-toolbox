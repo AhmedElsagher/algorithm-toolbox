{
 "cells": [
  {
   "cell_type": "code",
   "execution_count": null,
   "metadata": {
    "collapsed": true
   },
   "outputs": [],
   "source": [
    "# Uses python3\n",
    "import sys\n",
    "\n",
    "def get_change(m):\n",
    "    #write your code here\n",
    "    num_coin=0\n",
    "    num_coin+=int(m/10)\n",
    "    m=m%10\n",
    "    num_coin+=int(m/5)\n",
    "    m=m%5\n",
    "    num_coin+=m\n",
    "    return num_coin\n",
    "\n",
    "if __name__ == '__main__':\n",
    "    m = int(input())\n",
    "    print(get_change(m))\n"
   ]
  },
  {
   "cell_type": "code",
   "execution_count": 3,
   "metadata": {},
   "outputs": [
    {
     "name": "stdout",
     "output_type": "stream",
     "text": [
      "3 50\n",
      "60 20\n",
      "100 50\n",
      "120 30\n",
      "(4.0, 3.0, 2.0)\n",
      "(30, 20, 50)\n",
      "180.0000\n"
     ]
    }
   ],
   "source": [
    "# Uses python3\n",
    "import sys\n",
    "\n",
    "def get_optimal_value(capacity, weights, values):\n",
    "    value = 0.\n",
    "    value_weight=[]\n",
    "    for i in range(len(weights)):\n",
    "        value_weight.append(values[i]/weights[i]) \n",
    "    ll=sorted(zip(value_weight,weights),reverse=True)\n",
    "    value_weight,weights=zip(*ll)\n",
    "#     print(value_weight)\n",
    "#     print(weights)\n",
    "    for i in range(len(weights)):\n",
    "        if capacity>=weights[i]:\n",
    "            value+=(value_weight[i]*weights[i])\n",
    "            capacity-=weights[i]\n",
    "\n",
    "        else:\n",
    "            value+=value_weight[i]*capacity\n",
    "        \n",
    "    return value\n",
    "\n",
    "\n",
    "if __name__ == \"__main__\":\n",
    "#     data = list(map(int, ))\n",
    "    n, capacity = input().split()\n",
    "    n, capacity =int( n),int( capacity )\n",
    "    values=[]\n",
    "    weights=[]\n",
    "    for i in range(n):\n",
    "        value_i, weight_i = input().split()\n",
    "        value_i, weight_i = int(value_i),int(weight_i)\n",
    "        values.append(value_i)\n",
    "        weights.append(weight_i)\n",
    "#     n, capacity =int( n),int( capacity )\n",
    "#     values = data[2:(2 * n + 2):2]\n",
    "#     weights = data[3:(2 * n + 2):2]\n",
    "    opt_value = get_optimal_value(capacity, weights, values)\n",
    "    print(\"{:.4f}\".format(opt_value))\n"
   ]
  },
  {
   "cell_type": "code",
   "execution_count": null,
   "metadata": {
    "collapsed": true
   },
   "outputs": [],
   "source": [
    "d=950\n",
    "m=400\n",
    "n=4\n",
    "stops=[200, 375, 550, 750]"
   ]
  },
  {
   "cell_type": "code",
   "execution_count": null,
   "metadata": {
    "collapsed": true
   },
   "outputs": [],
   "source": [
    "# python3\n",
    "import sys\n",
    "\n",
    "\n",
    "def compute_min_refills(distance, tank, stops):\n",
    "    # write your code here\n",
    "    whats_left=tank\n",
    "    num_refils=0\n",
    "    for i in range(len(stops)-1):\n",
    "        if (whats_left>0 )and((stops[i+1]-stops[i])<whats_left):\n",
    "            whats_left-=(stops[i+1]-stops[i])\n",
    "        elif tank>(stops[i+1]-stops[i]):\n",
    "            whats_left=tank\n",
    "            whats_left-=(stops[i+1]-stops[i])\n",
    "            num_refils+=1\n",
    "        else:\n",
    "            return -1\n",
    "#         print(stops[i],whats_left,num_refils)\n",
    "\n",
    "\n",
    "            \n",
    "    return num_refils\n",
    "\n",
    "if __name__ == '__main__':\n",
    "#     d, m = map(int, input().split())\n",
    "    d=int(input())\n",
    "    m=int(input())\n",
    "    n=int(input())\n",
    "    stops=list(map(int, input().split()))\n",
    "    stops=[0]+stops+[d]\n",
    "    \n",
    "    print(compute_min_refills(d, m, stops))\n"
   ]
  },
  {
   "cell_type": "code",
   "execution_count": null,
   "metadata": {
    "collapsed": true
   },
   "outputs": [],
   "source": [
    "#Uses python3\n",
    "\n",
    "import sys\n",
    "\n",
    "def max_dot_product(a, b):\n",
    "    #write your code here\n",
    "    a=sorted(a)\n",
    "    b=sorted(b)\n",
    "    res = 0\n",
    "    for i in range(len(a)):\n",
    "        res += a[i] * b[i]\n",
    "    return res\n",
    "\n",
    "if __name__ == '__main__':\n",
    "#     input = sys.stdin.read()\n",
    "#     data = list(map(int, input().split()))\n",
    "    n = int(input())\n",
    "    a = list(map(int, input().split()))\n",
    "    b =  list(map(int, input().split()))\n",
    "    print(max_dot_product(a, b))\n",
    "    "
   ]
  },
  {
   "cell_type": "code",
   "execution_count": null,
   "metadata": {
    "collapsed": true
   },
   "outputs": [],
   "source": [
    "4\n",
    "47\n",
    "13\n",
    "25\n",
    "56"
   ]
  },
  {
   "cell_type": "code",
   "execution_count": 5,
   "metadata": {
    "collapsed": true
   },
   "outputs": [],
   "source": [
    "n=4\n",
    "starts=[4,1,2,5]\n",
    "ends=[7,3,5,6]"
   ]
  },
  {
   "cell_type": "code",
   "execution_count": 11,
   "metadata": {},
   "outputs": [
    {
     "name": "stdout",
     "output_type": "stream",
     "text": [
      "4\n",
      "4 7\n",
      "1 3\n",
      "2 5\n",
      "5 6\n",
      "2\n",
      "3 6 "
     ]
    }
   ],
   "source": [
    "# Uses python3\n",
    "import sys\n",
    "from collections import namedtuple\n",
    "\n",
    "Segment = namedtuple('Segment', 'start end')\n",
    "\n",
    "def optimal_points(starts,ends):\n",
    "    points = []\n",
    "    zip_st_en=sorted(zip(starts,ends))\n",
    "    starts,ends=zip(*zip_st_en)\n",
    "    #write your code here\n",
    "    points.append(ends[0])\n",
    "    for i in range(len(starts)):\n",
    "        if starts[i]<=points[-1]:\n",
    "            if points[-1]>ends[i]:\n",
    "                points[-1]=ends[i]\n",
    "            continue\n",
    "        else:\n",
    "            points.append(ends[i])\n",
    "    return points\n",
    "\n",
    "if __name__ == '__main__':\n",
    "    n=int(input())\n",
    "    starts,ends=[],[]\n",
    "    for i in range(n):\n",
    "        point=list(map(int, input().split()))\n",
    "        start_i,end_i=point[0],point[1]\n",
    "        starts.append(start_i)\n",
    "        ends.append(end_i)\n",
    "\n",
    "\n",
    "#     n, *data = map(int, input.split())\n",
    "#     segments = list(map(lambda x: Segment(x[0], x[1]), zip(data[::2], data[1::2])))\n",
    "    points = optimal_points(starts,ends)\n",
    "    print(len(points))\n",
    "    for p in points:\n",
    "        print(p, end=' ')\n",
    "        "
   ]
  },
  {
   "cell_type": "code",
   "execution_count": null,
   "metadata": {
    "collapsed": true
   },
   "outputs": [],
   "source": [
    "a=list(map(int, input.split()))\n"
   ]
  },
  {
   "cell_type": "code",
   "execution_count": null,
   "metadata": {
    "collapsed": true
   },
   "outputs": [],
   "source": [
    "k,k=a"
   ]
  }
 ],
 "metadata": {
  "kernelspec": {
   "display_name": "Python [default]",
   "language": "python",
   "name": "python3"
  },
  "language_info": {
   "codemirror_mode": {
    "name": "ipython",
    "version": 3
   },
   "file_extension": ".py",
   "mimetype": "text/x-python",
   "name": "python",
   "nbconvert_exporter": "python",
   "pygments_lexer": "ipython3",
   "version": "3.6.2"
  }
 },
 "nbformat": 4,
 "nbformat_minor": 2
}
