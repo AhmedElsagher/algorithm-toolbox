{
 "cells": [
  {
   "cell_type": "code",
   "execution_count": null,
   "metadata": {},
   "outputs": [],
   "source": [
    "# python3\n",
    "\n",
    "\n",
    "def max_pairwise_product(numbers):\n",
    "    n = len(numbers)\n",
    "    max_product = 0\n",
    "    for first in range(n):\n",
    "        for second in range(first + 1, n):\n",
    "            max_product = max(max_product,\n",
    "                numbers[first] * numbers[second])\n",
    "\n",
    "    return max_product\n",
    "\n",
    "def max_pairwise_product_fast(numbers):\n",
    "    n = len(numbers)\n",
    "    max_number=0\n",
    "    second_max=0\n",
    "    for i in numbers:\n",
    "#         for second in range(first + 1, n):\n",
    "        if i>max_number:\n",
    "            second_max=max_number\n",
    "            max_number=i\n",
    "    max_product = max_number*second_max\n",
    "    return max_product\n",
    "if __name__ == '__main__':\n",
    "    input_n = int(input())\n",
    "    input_numbers = [int(x) for x in input().split()]\n",
    "    print(max_pairwise_product_fast(input_numbers))\n"
   ]
  }
 ],
 "metadata": {
  "kernelspec": {
   "display_name": "Python 3",
   "language": "python",
   "name": "python3"
  },
  "language_info": {
   "codemirror_mode": {
    "name": "ipython",
    "version": 3
   },
   "file_extension": ".py",
   "mimetype": "text/x-python",
   "name": "python",
   "nbconvert_exporter": "python",
   "pygments_lexer": "ipython3",
   "version": "3.5.2"
  }
 },
 "nbformat": 4,
 "nbformat_minor": 2
}
